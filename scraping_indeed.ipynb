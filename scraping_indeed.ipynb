{
 "cells": [
  {
   "cell_type": "code",
   "execution_count": 1,
   "metadata": {
    "ExecuteTime": {
     "end_time": "2021-06-12T07:33:10.792753Z",
     "start_time": "2021-06-12T07:33:10.778750Z"
    }
   },
   "outputs": [],
   "source": [
    "# import csv\n",
    "# import pandas as pd\n",
    "# import requests\n",
    "# from bs4 import BeautifulSoup"
   ]
  },
  {
   "cell_type": "code",
   "execution_count": 2,
   "metadata": {
    "ExecuteTime": {
     "end_time": "2021-06-12T07:33:10.808756Z",
     "start_time": "2021-06-12T07:33:10.793753Z"
    }
   },
   "outputs": [],
   "source": [
    "# def get_url(company):\n",
    "#     template='https://www.indeed.com/cmp/{}/reviews?fcountry=US&floc=Boulder%2C+CO'\n",
    "#     url=template.format(company)\n",
    "#     return url"
   ]
  },
  {
   "cell_type": "code",
   "execution_count": 3,
   "metadata": {
    "ExecuteTime": {
     "end_time": "2021-06-12T07:33:10.824760Z",
     "start_time": "2021-06-12T07:33:10.809756Z"
    }
   },
   "outputs": [],
   "source": [
    "# url1=get_url('Ball-Aerospace')"
   ]
  },
  {
   "cell_type": "code",
   "execution_count": 4,
   "metadata": {
    "ExecuteTime": {
     "end_time": "2021-06-12T07:33:10.840764Z",
     "start_time": "2021-06-12T07:33:10.825760Z"
    }
   },
   "outputs": [],
   "source": [
    "# response=requests.get(url1)"
   ]
  },
  {
   "cell_type": "code",
   "execution_count": 5,
   "metadata": {
    "ExecuteTime": {
     "end_time": "2021-06-12T07:33:10.856767Z",
     "start_time": "2021-06-12T07:33:10.841764Z"
    }
   },
   "outputs": [],
   "source": [
    "# response.reason"
   ]
  },
  {
   "cell_type": "code",
   "execution_count": 6,
   "metadata": {
    "ExecuteTime": {
     "end_time": "2021-06-12T07:33:10.872770Z",
     "start_time": "2021-06-12T07:33:10.857768Z"
    }
   },
   "outputs": [],
   "source": [
    "# soup=BeautifulSoup(response.text, 'html.parser')"
   ]
  },
  {
   "cell_type": "code",
   "execution_count": 7,
   "metadata": {
    "ExecuteTime": {
     "end_time": "2021-06-12T07:33:10.888774Z",
     "start_time": "2021-06-12T07:33:10.874771Z"
    }
   },
   "outputs": [],
   "source": [
    "# reviews=soup.find_all('div','cmp-Review-container')\n",
    "# reviews=soup.find_all('div','cmp-Review')"
   ]
  },
  {
   "cell_type": "code",
   "execution_count": 8,
   "metadata": {
    "ExecuteTime": {
     "end_time": "2021-06-12T07:33:10.904778Z",
     "start_time": "2021-06-12T07:33:10.889775Z"
    }
   },
   "outputs": [],
   "source": [
    "# len(reviews)"
   ]
  },
  {
   "cell_type": "markdown",
   "metadata": {},
   "source": [
    "## Prototype extraction with a single record"
   ]
  },
  {
   "cell_type": "code",
   "execution_count": 9,
   "metadata": {
    "ExecuteTime": {
     "end_time": "2021-06-12T07:33:10.920782Z",
     "start_time": "2021-06-12T07:33:10.905778Z"
    }
   },
   "outputs": [],
   "source": [
    "# review=reviews[0]"
   ]
  },
  {
   "cell_type": "code",
   "execution_count": 10,
   "metadata": {
    "ExecuteTime": {
     "end_time": "2021-06-12T07:33:10.936785Z",
     "start_time": "2021-06-12T07:33:10.921781Z"
    }
   },
   "outputs": [],
   "source": [
    "# company=review.find('meta',itemprop='name').get('content')"
   ]
  },
  {
   "cell_type": "code",
   "execution_count": 11,
   "metadata": {
    "ExecuteTime": {
     "end_time": "2021-06-12T07:33:10.952789Z",
     "start_time": "2021-06-12T07:33:10.937786Z"
    }
   },
   "outputs": [],
   "source": [
    "# company"
   ]
  },
  {
   "cell_type": "code",
   "execution_count": 12,
   "metadata": {
    "ExecuteTime": {
     "end_time": "2021-06-12T07:33:10.968792Z",
     "start_time": "2021-06-12T07:33:10.953789Z"
    }
   },
   "outputs": [],
   "source": [
    "# reviewID=review.find('div','cmp-Review-container').get('data-tn-entityid')"
   ]
  },
  {
   "cell_type": "code",
   "execution_count": 13,
   "metadata": {
    "ExecuteTime": {
     "end_time": "2021-06-12T07:33:10.984796Z",
     "start_time": "2021-06-12T07:33:10.969792Z"
    }
   },
   "outputs": [],
   "source": [
    "# reviewID"
   ]
  },
  {
   "cell_type": "code",
   "execution_count": 14,
   "metadata": {
    "ExecuteTime": {
     "end_time": "2021-06-12T07:33:11.000799Z",
     "start_time": "2021-06-12T07:33:10.985797Z"
    }
   },
   "outputs": [],
   "source": [
    "# rating=review.find('div','cmp-ReviewRating').find('button','cmp-ReviewRating-text')"
   ]
  },
  {
   "cell_type": "code",
   "execution_count": 15,
   "metadata": {
    "ExecuteTime": {
     "end_time": "2021-06-12T07:33:11.015803Z",
     "start_time": "2021-06-12T07:33:11.001799Z"
    }
   },
   "outputs": [],
   "source": [
    "# rating.text"
   ]
  },
  {
   "cell_type": "code",
   "execution_count": 16,
   "metadata": {
    "ExecuteTime": {
     "end_time": "2021-06-12T07:33:11.031806Z",
     "start_time": "2021-06-12T07:33:11.016803Z"
    }
   },
   "outputs": [],
   "source": [
    "# review_text=review.find('span','cmp-NewLineToBr-text')"
   ]
  },
  {
   "cell_type": "code",
   "execution_count": 17,
   "metadata": {
    "ExecuteTime": {
     "end_time": "2021-06-12T07:33:11.047810Z",
     "start_time": "2021-06-12T07:33:11.032807Z"
    }
   },
   "outputs": [],
   "source": [
    "# review_text.text"
   ]
  },
  {
   "cell_type": "markdown",
   "metadata": {},
   "source": [
    "## Get it all together"
   ]
  },
  {
   "cell_type": "code",
   "execution_count": 18,
   "metadata": {
    "ExecuteTime": {
     "end_time": "2021-06-12T07:33:11.063813Z",
     "start_time": "2021-06-12T07:33:11.048810Z"
    }
   },
   "outputs": [],
   "source": [
    "# # def get_record(review):\n",
    "#     company=review.find('meta',itemprop='name').get('content')\n",
    "#     reviewID=review.find('div','cmp-Review-container').get('data-tn-entityid')\n",
    "#     rating=review.find('div','cmp-ReviewRating').find('button','cmp-ReviewRating-text').text.strip()\n",
    "#     review_text=review.find('span','cmp-NewLineToBr-text').text.strip()\n",
    "#     record=(company, reviewID, rating, review_text)\n",
    "#     return record"
   ]
  },
  {
   "cell_type": "code",
   "execution_count": 19,
   "metadata": {
    "ExecuteTime": {
     "end_time": "2021-06-12T07:33:11.079817Z",
     "start_time": "2021-06-12T07:33:11.065814Z"
    }
   },
   "outputs": [],
   "source": [
    "# records=[]\n",
    "# for review in reviews:\n",
    "#     record=get_record(review)\n",
    "#     records.append(record)"
   ]
  },
  {
   "cell_type": "code",
   "execution_count": 20,
   "metadata": {
    "ExecuteTime": {
     "end_time": "2021-06-12T07:33:11.095821Z",
     "start_time": "2021-06-12T07:33:11.081817Z"
    }
   },
   "outputs": [],
   "source": [
    "# records[3]"
   ]
  },
  {
   "cell_type": "markdown",
   "metadata": {},
   "source": [
    "## Getting to the next page"
   ]
  },
  {
   "cell_type": "code",
   "execution_count": 21,
   "metadata": {
    "ExecuteTime": {
     "end_time": "2021-06-12T07:33:11.111824Z",
     "start_time": "2021-06-12T07:33:11.096821Z"
    }
   },
   "outputs": [],
   "source": [
    "# url_test=soup.find('a',{'data-tn-element':'next-page'}).get('href')"
   ]
  },
  {
   "cell_type": "code",
   "execution_count": 22,
   "metadata": {
    "ExecuteTime": {
     "end_time": "2021-06-12T07:33:11.126828Z",
     "start_time": "2021-06-12T07:33:11.112825Z"
    }
   },
   "outputs": [],
   "source": [
    "# url_test"
   ]
  },
  {
   "cell_type": "code",
   "execution_count": 23,
   "metadata": {
    "ExecuteTime": {
     "end_time": "2021-06-12T07:33:11.142831Z",
     "start_time": "2021-06-12T07:33:11.128828Z"
    }
   },
   "outputs": [],
   "source": [
    "# while True:\n",
    "#     try:\n",
    "#         url='https://www.indeed.com' + soup.find('a',{'data-tn-element':'next-page'}).get('href')\n",
    "#     except AttributeError:\n",
    "#         break\n",
    "    \n",
    "#     response=requests.get(url)\n",
    "#     soup=BeautifulSoup(response.text, 'html.parser')\n",
    "#     reviews=soup.find_all('div','cmp-Review')\n",
    "    \n",
    "#     for review in reviews:\n",
    "#         record=get_record(review)\n",
    "#         records.append(record)\n"
   ]
  },
  {
   "cell_type": "code",
   "execution_count": 24,
   "metadata": {
    "ExecuteTime": {
     "end_time": "2021-06-12T07:33:11.158834Z",
     "start_time": "2021-06-12T07:33:11.143831Z"
    }
   },
   "outputs": [],
   "source": [
    "# len(records)"
   ]
  },
  {
   "cell_type": "code",
   "execution_count": 154,
   "metadata": {
    "ExecuteTime": {
     "end_time": "2021-06-13T06:10:09.243289Z",
     "start_time": "2021-06-13T06:10:09.229286Z"
    }
   },
   "outputs": [],
   "source": [
    "import csv\n",
    "import pandas as pd\n",
    "import requests\n",
    "from bs4 import BeautifulSoup"
   ]
  },
  {
   "cell_type": "code",
   "execution_count": 155,
   "metadata": {
    "ExecuteTime": {
     "end_time": "2021-06-13T06:10:10.712767Z",
     "start_time": "2021-06-13T06:10:10.701260Z"
    }
   },
   "outputs": [],
   "source": [
    "def get_url(company):\n",
    "#     template='https://www.indeed.com/cmp/{}/reviews?fcountry=US&floc=Boulder%2C+CO'\n",
    "    template='https://www.indeed.com/cmp/{}/reviews?fcountry=US'\n",
    "    url=template.format(company)\n",
    "    return url\n",
    "\n",
    "def get_record(review):\n",
    "    company=review.find('meta',itemprop='name').get('content')\n",
    "    reviewID=review.find('div','cmp-Review-container').get('data-tn-entityid')\n",
    "    rating=review.find('div','cmp-ReviewRating').find('button','cmp-ReviewRating-text').text.strip()\n",
    "    review_text=review.find('span','cmp-NewLineToBr-text').text.strip()\n",
    "    record=(company, reviewID, rating, review_text)\n",
    "    return record\n",
    "\n",
    "def all_together(company):\n",
    "    records=[]\n",
    "    url=get_url(company)\n",
    "    \n",
    "# Extracting reviews    \n",
    "    while True: \n",
    "        response=requests.get(url, timeout=30)\n",
    "        soup=BeautifulSoup(response.text, 'html.parser')\n",
    "        reviews=soup.find_all('div','cmp-Review')\n",
    "    \n",
    "        for review in reviews:\n",
    "            record=get_record(review)\n",
    "            records.append(record)\n",
    "            \n",
    "        try:\n",
    "            url='https://www.indeed.com' + soup.find('a',{'data-tn-element':'next-page'}).get('href')\n",
    "        except AttributeError:\n",
    "            break\n",
    "            \n",
    "# Writing into csv file   \n",
    "    with open('reviews_scrap_results.csv', 'a', newline='', encoding='utf-8') as file:\n",
    "        writer=csv.writer(file)\n",
    "        writer.writerows(records)\n",
    "        \n",
    "# Calling it all up\n",
    "# with open('test_review_scrap.csv', 'a', newline='', encoding='utf-8') as f:\n",
    "#     writer=csv.writer(f)\n",
    "#     writer.writerow(['Company','ReviewID','Rating','Review_Text'])\n",
    "#     f.close()\n",
    "# all_together('Imagine!')"
   ]
  },
  {
   "cell_type": "markdown",
   "metadata": {},
   "source": [
    "## Creating company list"
   ]
  },
  {
   "cell_type": "code",
   "execution_count": 27,
   "metadata": {
    "ExecuteTime": {
     "end_time": "2021-06-12T07:33:11.635581Z",
     "start_time": "2021-06-12T07:33:11.620577Z"
    }
   },
   "outputs": [],
   "source": [
    "# url_names='https://www.indeed.com/companies/search?q=&l=Boulder%2C+CO&from=discovery-cmp-search'\n",
    "# response_names=requests.get(url_names)\n",
    "# response_names.reason"
   ]
  },
  {
   "cell_type": "code",
   "execution_count": 28,
   "metadata": {
    "ExecuteTime": {
     "end_time": "2021-06-12T07:33:11.651584Z",
     "start_time": "2021-06-12T07:33:11.636581Z"
    }
   },
   "outputs": [],
   "source": [
    "# soup_names=BeautifulSoup(response_names.text, 'html.parser')"
   ]
  },
  {
   "cell_type": "code",
   "execution_count": 29,
   "metadata": {
    "ExecuteTime": {
     "end_time": "2021-06-12T07:33:11.667516Z",
     "start_time": "2021-06-12T07:33:11.652584Z"
    }
   },
   "outputs": [],
   "source": [
    "# companies=soup_names.find_all('div','cmp-CompanyWidget-summary')"
   ]
  },
  {
   "cell_type": "code",
   "execution_count": 30,
   "metadata": {
    "ExecuteTime": {
     "end_time": "2021-06-12T07:33:11.682513Z",
     "start_time": "2021-06-12T07:33:11.668516Z"
    }
   },
   "outputs": [],
   "source": [
    "# len(companies)"
   ]
  },
  {
   "cell_type": "code",
   "execution_count": 31,
   "metadata": {
    "ExecuteTime": {
     "end_time": "2021-06-12T07:33:11.698517Z",
     "start_time": "2021-06-12T07:33:11.683514Z"
    }
   },
   "outputs": [],
   "source": [
    "# name=soup_names.find('a',{'class':'cmp-CompanyWidget-name'}).get('href').strip('/cmp/')"
   ]
  },
  {
   "cell_type": "code",
   "execution_count": 32,
   "metadata": {
    "ExecuteTime": {
     "end_time": "2021-06-12T07:33:11.714521Z",
     "start_time": "2021-06-12T07:33:11.699517Z"
    }
   },
   "outputs": [],
   "source": [
    "# name"
   ]
  },
  {
   "cell_type": "code",
   "execution_count": 33,
   "metadata": {
    "ExecuteTime": {
     "end_time": "2021-06-12T07:33:13.528344Z",
     "start_time": "2021-06-12T07:33:11.715521Z"
    }
   },
   "outputs": [],
   "source": [
    "def get_name(company):\n",
    "    name=company.find('a',{'class':'cmp-CompanyWidget-name'}).get('href').replace('/cmp/','')\n",
    "    return name\n",
    "\n",
    "url_names='https://www.indeed.com/companies/search?q=&l=Boulder%2C+CO&from=discovery-cmp-search'\n",
    "response_names=requests.get(url_names)\n",
    "\n",
    "\n",
    "soup_names=BeautifulSoup(response_names.text, 'html.parser')\n",
    "companies=soup_names.find_all('div','cmp-CompanyWidget-summary')\n",
    "company_names=[] \n",
    "\n",
    "for company in companies:\n",
    "    company_name=get_name(company)\n",
    "    company_names.append(company_name)\n"
   ]
  },
  {
   "cell_type": "code",
   "execution_count": 34,
   "metadata": {
    "ExecuteTime": {
     "end_time": "2021-06-12T07:33:13.543358Z",
     "start_time": "2021-06-12T07:33:13.529355Z"
    }
   },
   "outputs": [
    {
     "name": "stdout",
     "output_type": "stream",
     "text": [
      "['Ball-Aerospace', 'University-of-Colorado-Boulder', 'City-of-Boulder,-Co', 'Boulder-Valley-School-District', 'Boulder-Community-Health', 'Boulder-County,-Co', 'Splunk', 'Medtronic', 'Naropa-University', 'Amazon.com', 'Brookdale-Senior-Living', 'Emerson', 'IBM', 'Netapp', 'Zayo-Group', 'Apple', 'Whole-Foods-Market', 'Particle-Measuring-Systems', 'Excelitas-Technologies', 'Biodesix,-Inc.', 'Boulder-Medical-Center', 'Northrop-Grumman', 'U.S.-Army', 'Kbi-Biopharma', 'Sage-Hospitality', 'University-of-Colorado', 'Mental-Health-Partners', 'Agilent-Technologies', 'Frasier-Meadows', 'Safeway', 'Ricoh', 'Cozymeal', 'Embassy-Suites-By-Hilton', 'King-Soopers', 'Ihs-Markit', 'National-Renewable-Energy-Laboratory', 'U.S.-Department-of-Commerce', 'University-Corporation-For-Atmospheric-Research', 'Invitae', 'Pfizer', 'Also-Energy-Inc', 'Suez', 'Boulder-Country-Club', 'Sprouts-Farmers-Market', 'Kpmg', 'New-Relic', 'Petsmart', 'Corden-Pharma', 'Imagine!', 'Craft-Health']\n"
     ]
    }
   ],
   "source": [
    "print(company_names)"
   ]
  },
  {
   "cell_type": "code",
   "execution_count": 65,
   "metadata": {
    "ExecuteTime": {
     "end_time": "2021-06-12T13:48:26.461760Z",
     "start_time": "2021-06-12T13:48:26.453751Z"
    }
   },
   "outputs": [],
   "source": [
    "company_names_to_remove1=['Ball-Aerospace', 'University-of-Colorado-Boulder', 'City-of-Boulder,-Co',\n",
    "                         'Boulder-Valley-School-District', 'Boulder-Community-Health', 'Boulder-County,-Co',\n",
    "                         'Splunk', 'Medtronic', 'Naropa-University', 'Amazon.com', 'Brookdale-Senior-Living',\n",
    "                         'Emerson', 'IBM', 'Netapp', 'Zayo-Group', 'Apple', 'Whole-Foods-Market',\n",
    "                         'U.S.-Army','Safeway','King-Soopers','Corden-Pharma','Also-Energy-Inc','Boulder-Country-Club']"
   ]
  },
  {
   "cell_type": "code",
   "execution_count": 66,
   "metadata": {
    "ExecuteTime": {
     "end_time": "2021-06-12T13:48:27.221698Z",
     "start_time": "2021-06-12T13:48:27.213195Z"
    }
   },
   "outputs": [],
   "source": [
    "new_company_list=[item for item in company_names if item not in company_names_to_remove1]"
   ]
  },
  {
   "cell_type": "code",
   "execution_count": 67,
   "metadata": {
    "ExecuteTime": {
     "end_time": "2021-06-12T13:48:28.467242Z",
     "start_time": "2021-06-12T13:48:28.453239Z"
    }
   },
   "outputs": [
    {
     "name": "stdout",
     "output_type": "stream",
     "text": [
      "['Particle-Measuring-Systems', 'Excelitas-Technologies', 'Biodesix,-Inc.', 'Boulder-Medical-Center', 'Northrop-Grumman', 'Kbi-Biopharma', 'Sage-Hospitality', 'University-of-Colorado', 'Mental-Health-Partners', 'Agilent-Technologies', 'Frasier-Meadows', 'Ricoh', 'Cozymeal', 'Embassy-Suites-By-Hilton', 'Ihs-Markit', 'National-Renewable-Energy-Laboratory', 'U.S.-Department-of-Commerce', 'University-Corporation-For-Atmospheric-Research', 'Invitae', 'Pfizer', 'Suez', 'Sprouts-Farmers-Market', 'Kpmg', 'New-Relic', 'Petsmart', 'Imagine!', 'Craft-Health']\n"
     ]
    }
   ],
   "source": [
    "print(new_company_list)"
   ]
  },
  {
   "cell_type": "code",
   "execution_count": 71,
   "metadata": {
    "ExecuteTime": {
     "end_time": "2021-06-12T13:49:39.779366Z",
     "start_time": "2021-06-12T13:49:39.773084Z"
    }
   },
   "outputs": [],
   "source": [
    "company_names_to_remove2=['Particle-Measuring-Systems', 'Agilent-Technologies','Boulder-Medical-Center',\n",
    "                          'Excelitas-Technologies','Frasier-Meadows','Kbi-Biopharma','Mental-Health-Partners',\n",
    "                         'Northrop-Grumman','Ricoh','Sage-Hospitality','University-of-Colorado','Biodesix,-Inc.']"
   ]
  },
  {
   "cell_type": "code",
   "execution_count": 72,
   "metadata": {
    "ExecuteTime": {
     "end_time": "2021-06-12T13:49:40.603042Z",
     "start_time": "2021-06-12T13:49:40.589508Z"
    }
   },
   "outputs": [],
   "source": [
    "new_company_list2=[item for item in new_company_list if item not in company_names_to_remove2]"
   ]
  },
  {
   "cell_type": "code",
   "execution_count": 73,
   "metadata": {
    "ExecuteTime": {
     "end_time": "2021-06-12T13:49:41.271557Z",
     "start_time": "2021-06-12T13:49:41.263050Z"
    }
   },
   "outputs": [
    {
     "name": "stdout",
     "output_type": "stream",
     "text": [
      "['Cozymeal', 'Embassy-Suites-By-Hilton', 'Ihs-Markit', 'National-Renewable-Energy-Laboratory', 'U.S.-Department-of-Commerce', 'University-Corporation-For-Atmospheric-Research', 'Invitae', 'Pfizer', 'Suez', 'Sprouts-Farmers-Market', 'Kpmg', 'New-Relic', 'Petsmart', 'Imagine!', 'Craft-Health']\n"
     ]
    }
   ],
   "source": [
    "print(new_company_list2)"
   ]
  },
  {
   "cell_type": "code",
   "execution_count": 94,
   "metadata": {
    "ExecuteTime": {
     "end_time": "2021-06-12T18:22:59.734194Z",
     "start_time": "2021-06-12T18:22:59.717688Z"
    }
   },
   "outputs": [],
   "source": [
    "new_company_list3=['Kpmg', 'New-Relic','Imagine!', 'Craft-Health']"
   ]
  },
  {
   "cell_type": "code",
   "execution_count": 156,
   "metadata": {
    "ExecuteTime": {
     "end_time": "2021-06-13T06:10:16.463698Z",
     "start_time": "2021-06-13T06:10:16.452695Z"
    }
   },
   "outputs": [],
   "source": [
    "new_company_list4=['Safeway','Petsmart']"
   ]
  },
  {
   "cell_type": "markdown",
   "metadata": {},
   "source": [
    "## Creating a file with all reviews"
   ]
  },
  {
   "cell_type": "code",
   "execution_count": 35,
   "metadata": {
    "ExecuteTime": {
     "end_time": "2021-06-12T09:21:30.306192Z",
     "start_time": "2021-06-12T07:33:13.544358Z"
    }
   },
   "outputs": [],
   "source": [
    "# with open('reviews_scrap_results.csv', 'a', newline='', encoding='utf-8') as f:\n",
    "#     writer=csv.writer(f)\n",
    "#     writer.writerow(['Company','ReviewID','Rating','Review_Text'])\n",
    "#     f.close()\n",
    "# for name in company_names:\n",
    "#     all_together(name)"
   ]
  },
  {
   "cell_type": "code",
   "execution_count": 158,
   "metadata": {
    "ExecuteTime": {
     "end_time": "2021-06-13T06:30:35.098359Z",
     "start_time": "2021-06-13T06:25:16.904347Z"
    }
   },
   "outputs": [],
   "source": [
    "with open('reviews_scrap_results.csv', 'a', newline='', encoding='utf-8') as f:\n",
    "    writer=csv.writer(f)\n",
    "    writer.writerow(['Company','ReviewID','Rating','Review_Text'])\n",
    "    f.close()\n",
    "for name in new_company_list4:\n",
    "    all_together(name)"
   ]
  },
  {
   "cell_type": "code",
   "execution_count": 121,
   "metadata": {
    "ExecuteTime": {
     "end_time": "2021-06-12T21:52:03.110317Z",
     "start_time": "2021-06-12T21:52:02.633196Z"
    }
   },
   "outputs": [],
   "source": [
    "df1=pd.read_csv('scraped_files_intermediate/scrap_results1.csv')\n",
    "df2=pd.read_csv('scraped_files_intermediate/scrap_results2.csv')\n",
    "df3=pd.read_csv('scraped_files_intermediate/scrap_results3.csv')\n",
    "df4=pd.read_csv('scraped_files_intermediate/scrap_results4.csv')\n",
    "df5=pd.read_csv('scraped_files_intermediate/scrap_results5.csv')\n",
    "df6=pd.read_csv('scraped_files_intermediate/scrap_results6.csv')\n",
    "df7=pd.read_csv('scraped_files_intermediate/scrap_results7.csv')\n",
    "df8=pd.read_csv('scraped_files_intermediate/scrap_results8.csv')\n",
    "df9=pd.read_csv('scraped_files_intermediate/scrap_results9.csv')\n",
    "df10=pd.read_csv('scraped_files_intermediate/scrap_results10.csv')"
   ]
  },
  {
   "cell_type": "code",
   "execution_count": 122,
   "metadata": {
    "ExecuteTime": {
     "end_time": "2021-06-12T21:52:11.789981Z",
     "start_time": "2021-06-12T21:52:11.753467Z"
    }
   },
   "outputs": [],
   "source": [
    "df_x=pd.concat([df1, df2, df3, df4, df5, df6, df7, df8, df9, df10], ignore_index=True)"
   ]
  },
  {
   "cell_type": "code",
   "execution_count": 123,
   "metadata": {
    "ExecuteTime": {
     "end_time": "2021-06-12T21:52:13.131839Z",
     "start_time": "2021-06-12T21:52:13.072837Z"
    }
   },
   "outputs": [
    {
     "name": "stdout",
     "output_type": "stream",
     "text": [
      "<class 'pandas.core.frame.DataFrame'>\n",
      "RangeIndex: 176256 entries, 0 to 176255\n",
      "Data columns (total 4 columns):\n",
      " #   Column       Non-Null Count   Dtype  \n",
      "---  ------       --------------   -----  \n",
      " 0   Company      176256 non-null  object \n",
      " 1   ReviewID     176256 non-null  object \n",
      " 2   Rating       176256 non-null  float64\n",
      " 3   Review_Text  176238 non-null  object \n",
      "dtypes: float64(1), object(3)\n",
      "memory usage: 5.4+ MB\n"
     ]
    }
   ],
   "source": [
    "df_x.info()"
   ]
  },
  {
   "cell_type": "code",
   "execution_count": 124,
   "metadata": {
    "ExecuteTime": {
     "end_time": "2021-06-12T21:52:15.548055Z",
     "start_time": "2021-06-12T21:52:15.433040Z"
    }
   },
   "outputs": [],
   "source": [
    "df_x.drop_duplicates(inplace=True)"
   ]
  },
  {
   "cell_type": "code",
   "execution_count": 125,
   "metadata": {
    "ExecuteTime": {
     "end_time": "2021-06-12T21:52:16.832165Z",
     "start_time": "2021-06-12T21:52:16.793156Z"
    }
   },
   "outputs": [
    {
     "name": "stdout",
     "output_type": "stream",
     "text": [
      "<class 'pandas.core.frame.DataFrame'>\n",
      "Int64Index: 121629 entries, 0 to 176255\n",
      "Data columns (total 4 columns):\n",
      " #   Column       Non-Null Count   Dtype  \n",
      "---  ------       --------------   -----  \n",
      " 0   Company      121629 non-null  object \n",
      " 1   ReviewID     121629 non-null  object \n",
      " 2   Rating       121629 non-null  float64\n",
      " 3   Review_Text  121620 non-null  object \n",
      "dtypes: float64(1), object(3)\n",
      "memory usage: 4.6+ MB\n"
     ]
    }
   ],
   "source": [
    "df_x.info()"
   ]
  },
  {
   "cell_type": "code",
   "execution_count": 128,
   "metadata": {
    "ExecuteTime": {
     "end_time": "2021-06-12T21:54:04.635320Z",
     "start_time": "2021-06-12T21:54:04.592311Z"
    }
   },
   "outputs": [],
   "source": [
    "df_x.dropna(inplace=True)"
   ]
  },
  {
   "cell_type": "code",
   "execution_count": 129,
   "metadata": {
    "ExecuteTime": {
     "end_time": "2021-06-12T21:54:07.267295Z",
     "start_time": "2021-06-12T21:54:07.233288Z"
    }
   },
   "outputs": [
    {
     "name": "stdout",
     "output_type": "stream",
     "text": [
      "<class 'pandas.core.frame.DataFrame'>\n",
      "Int64Index: 121620 entries, 0 to 176255\n",
      "Data columns (total 4 columns):\n",
      " #   Column       Non-Null Count   Dtype  \n",
      "---  ------       --------------   -----  \n",
      " 0   Company      121620 non-null  object \n",
      " 1   ReviewID     121620 non-null  object \n",
      " 2   Rating       121620 non-null  float64\n",
      " 3   Review_Text  121620 non-null  object \n",
      "dtypes: float64(1), object(3)\n",
      "memory usage: 4.6+ MB\n"
     ]
    }
   ],
   "source": [
    "df_x.info()"
   ]
  },
  {
   "cell_type": "code",
   "execution_count": 131,
   "metadata": {
    "ExecuteTime": {
     "end_time": "2021-06-12T21:56:12.878053Z",
     "start_time": "2021-06-12T21:56:12.865551Z"
    }
   },
   "outputs": [
    {
     "data": {
      "text/html": [
       "<div>\n",
       "<style scoped>\n",
       "    .dataframe tbody tr th:only-of-type {\n",
       "        vertical-align: middle;\n",
       "    }\n",
       "\n",
       "    .dataframe tbody tr th {\n",
       "        vertical-align: top;\n",
       "    }\n",
       "\n",
       "    .dataframe thead th {\n",
       "        text-align: right;\n",
       "    }\n",
       "</style>\n",
       "<table border=\"1\" class=\"dataframe\">\n",
       "  <thead>\n",
       "    <tr style=\"text-align: right;\">\n",
       "      <th></th>\n",
       "      <th>Company</th>\n",
       "      <th>ReviewID</th>\n",
       "      <th>Rating</th>\n",
       "      <th>Review_Text</th>\n",
       "    </tr>\n",
       "  </thead>\n",
       "  <tbody>\n",
       "    <tr>\n",
       "      <th>0</th>\n",
       "      <td>Ball Aerospace</td>\n",
       "      <td>1f4e4k5dk2v72000</td>\n",
       "      <td>4.0</td>\n",
       "      <td>I worked as a contractor for them for about tw...</td>\n",
       "    </tr>\n",
       "    <tr>\n",
       "      <th>1</th>\n",
       "      <td>Ball Aerospace</td>\n",
       "      <td>1f76ir3183obs000</td>\n",
       "      <td>1.0</td>\n",
       "      <td>Worst place I've ever worked, hands down.</td>\n",
       "    </tr>\n",
       "    <tr>\n",
       "      <th>2</th>\n",
       "      <td>Ball Aerospace</td>\n",
       "      <td>1f5rn12k9u3af800</td>\n",
       "      <td>3.0</td>\n",
       "      <td>The compnay has good benefits and even a small...</td>\n",
       "    </tr>\n",
       "    <tr>\n",
       "      <th>3</th>\n",
       "      <td>Ball Aerospace</td>\n",
       "      <td>1f5e5q2f1u2n1800</td>\n",
       "      <td>1.0</td>\n",
       "      <td>Company has no life and work balance.  Everyda...</td>\n",
       "    </tr>\n",
       "    <tr>\n",
       "      <th>4</th>\n",
       "      <td>Ball Aerospace</td>\n",
       "      <td>1f3b4lrdou3bc800</td>\n",
       "      <td>5.0</td>\n",
       "      <td>I no long work for Ball, the drive to work was...</td>\n",
       "    </tr>\n",
       "  </tbody>\n",
       "</table>\n",
       "</div>"
      ],
      "text/plain": [
       "          Company          ReviewID  Rating  \\\n",
       "0  Ball Aerospace  1f4e4k5dk2v72000     4.0   \n",
       "1  Ball Aerospace  1f76ir3183obs000     1.0   \n",
       "2  Ball Aerospace  1f5rn12k9u3af800     3.0   \n",
       "3  Ball Aerospace  1f5e5q2f1u2n1800     1.0   \n",
       "4  Ball Aerospace  1f3b4lrdou3bc800     5.0   \n",
       "\n",
       "                                         Review_Text  \n",
       "0  I worked as a contractor for them for about tw...  \n",
       "1          Worst place I've ever worked, hands down.  \n",
       "2  The compnay has good benefits and even a small...  \n",
       "3  Company has no life and work balance.  Everyda...  \n",
       "4  I no long work for Ball, the drive to work was...  "
      ]
     },
     "execution_count": 131,
     "metadata": {},
     "output_type": "execute_result"
    }
   ],
   "source": [
    "df_x.head()"
   ]
  },
  {
   "cell_type": "code",
   "execution_count": 136,
   "metadata": {
    "ExecuteTime": {
     "end_time": "2021-06-12T21:59:52.655629Z",
     "start_time": "2021-06-12T21:59:52.624100Z"
    }
   },
   "outputs": [
    {
     "name": "stdout",
     "output_type": "stream",
     "text": [
      "<class 'pandas.core.frame.DataFrame'>\n",
      "Int64Index: 121620 entries, 0 to 176255\n",
      "Data columns (total 2 columns):\n",
      " #   Column       Non-Null Count   Dtype  \n",
      "---  ------       --------------   -----  \n",
      " 0   Rating       121620 non-null  float64\n",
      " 1   Review_Text  121620 non-null  object \n",
      "dtypes: float64(1), object(1)\n",
      "memory usage: 7.8+ MB\n"
     ]
    }
   ],
   "source": [
    "df_06120221=df_x.drop(['Company','ReviewID'], axis=1).copy()\n",
    "df_06120221.info()"
   ]
  },
  {
   "cell_type": "code",
   "execution_count": 137,
   "metadata": {
    "ExecuteTime": {
     "end_time": "2021-06-12T22:00:05.146089Z",
     "start_time": "2021-06-12T22:00:05.080075Z"
    }
   },
   "outputs": [],
   "source": [
    "df_06120221['Rating']=df_06120221['Rating'].astype(str)"
   ]
  },
  {
   "cell_type": "code",
   "execution_count": 139,
   "metadata": {
    "ExecuteTime": {
     "end_time": "2021-06-12T22:01:23.135094Z",
     "start_time": "2021-06-12T22:01:23.119598Z"
    }
   },
   "outputs": [],
   "source": [
    "df_06120221.reset_index(drop=True, inplace=True)"
   ]
  },
  {
   "cell_type": "code",
   "execution_count": 141,
   "metadata": {
    "ExecuteTime": {
     "end_time": "2021-06-12T22:01:58.082358Z",
     "start_time": "2021-06-12T22:01:58.063833Z"
    }
   },
   "outputs": [
    {
     "data": {
      "text/html": [
       "<div>\n",
       "<style scoped>\n",
       "    .dataframe tbody tr th:only-of-type {\n",
       "        vertical-align: middle;\n",
       "    }\n",
       "\n",
       "    .dataframe tbody tr th {\n",
       "        vertical-align: top;\n",
       "    }\n",
       "\n",
       "    .dataframe thead th {\n",
       "        text-align: right;\n",
       "    }\n",
       "</style>\n",
       "<table border=\"1\" class=\"dataframe\">\n",
       "  <thead>\n",
       "    <tr style=\"text-align: right;\">\n",
       "      <th></th>\n",
       "      <th>Rating</th>\n",
       "      <th>Review_Text</th>\n",
       "    </tr>\n",
       "  </thead>\n",
       "  <tbody>\n",
       "    <tr>\n",
       "      <th>0</th>\n",
       "      <td>4.0</td>\n",
       "      <td>I worked as a contractor for them for about tw...</td>\n",
       "    </tr>\n",
       "    <tr>\n",
       "      <th>1</th>\n",
       "      <td>1.0</td>\n",
       "      <td>Worst place I've ever worked, hands down.</td>\n",
       "    </tr>\n",
       "    <tr>\n",
       "      <th>2</th>\n",
       "      <td>3.0</td>\n",
       "      <td>The compnay has good benefits and even a small...</td>\n",
       "    </tr>\n",
       "    <tr>\n",
       "      <th>3</th>\n",
       "      <td>1.0</td>\n",
       "      <td>Company has no life and work balance.  Everyda...</td>\n",
       "    </tr>\n",
       "    <tr>\n",
       "      <th>4</th>\n",
       "      <td>5.0</td>\n",
       "      <td>I no long work for Ball, the drive to work was...</td>\n",
       "    </tr>\n",
       "  </tbody>\n",
       "</table>\n",
       "</div>"
      ],
      "text/plain": [
       "  Rating                                        Review_Text\n",
       "0    4.0  I worked as a contractor for them for about tw...\n",
       "1    1.0          Worst place I've ever worked, hands down.\n",
       "2    3.0  The compnay has good benefits and even a small...\n",
       "3    1.0  Company has no life and work balance.  Everyda...\n",
       "4    5.0  I no long work for Ball, the drive to work was..."
      ]
     },
     "execution_count": 141,
     "metadata": {},
     "output_type": "execute_result"
    }
   ],
   "source": [
    "df_06120221.head()"
   ]
  },
  {
   "cell_type": "code",
   "execution_count": 147,
   "metadata": {
    "ExecuteTime": {
     "end_time": "2021-06-12T22:13:15.745447Z",
     "start_time": "2021-06-12T22:13:15.727939Z"
    }
   },
   "outputs": [],
   "source": [
    "df_06120221=df_06120221.rename(columns={'Rating': 'target', 'Review_Text': 'body'})"
   ]
  },
  {
   "cell_type": "code",
   "execution_count": 148,
   "metadata": {
    "ExecuteTime": {
     "end_time": "2021-06-12T22:13:16.772400Z",
     "start_time": "2021-06-12T22:13:16.751885Z"
    }
   },
   "outputs": [
    {
     "data": {
      "text/html": [
       "<div>\n",
       "<style scoped>\n",
       "    .dataframe tbody tr th:only-of-type {\n",
       "        vertical-align: middle;\n",
       "    }\n",
       "\n",
       "    .dataframe tbody tr th {\n",
       "        vertical-align: top;\n",
       "    }\n",
       "\n",
       "    .dataframe thead th {\n",
       "        text-align: right;\n",
       "    }\n",
       "</style>\n",
       "<table border=\"1\" class=\"dataframe\">\n",
       "  <thead>\n",
       "    <tr style=\"text-align: right;\">\n",
       "      <th></th>\n",
       "      <th>target</th>\n",
       "      <th>body</th>\n",
       "    </tr>\n",
       "  </thead>\n",
       "  <tbody>\n",
       "    <tr>\n",
       "      <th>0</th>\n",
       "      <td>4.0</td>\n",
       "      <td>I worked as a contractor for them for about tw...</td>\n",
       "    </tr>\n",
       "    <tr>\n",
       "      <th>1</th>\n",
       "      <td>1.0</td>\n",
       "      <td>Worst place I've ever worked, hands down.</td>\n",
       "    </tr>\n",
       "    <tr>\n",
       "      <th>2</th>\n",
       "      <td>3.0</td>\n",
       "      <td>The compnay has good benefits and even a small...</td>\n",
       "    </tr>\n",
       "    <tr>\n",
       "      <th>3</th>\n",
       "      <td>1.0</td>\n",
       "      <td>Company has no life and work balance.  Everyda...</td>\n",
       "    </tr>\n",
       "    <tr>\n",
       "      <th>4</th>\n",
       "      <td>5.0</td>\n",
       "      <td>I no long work for Ball, the drive to work was...</td>\n",
       "    </tr>\n",
       "  </tbody>\n",
       "</table>\n",
       "</div>"
      ],
      "text/plain": [
       "  target                                               body\n",
       "0    4.0  I worked as a contractor for them for about tw...\n",
       "1    1.0          Worst place I've ever worked, hands down.\n",
       "2    3.0  The compnay has good benefits and even a small...\n",
       "3    1.0  Company has no life and work balance.  Everyda...\n",
       "4    5.0  I no long work for Ball, the drive to work was..."
      ]
     },
     "execution_count": 148,
     "metadata": {},
     "output_type": "execute_result"
    }
   ],
   "source": [
    "df_06120221.head()"
   ]
  },
  {
   "cell_type": "code",
   "execution_count": 149,
   "metadata": {
    "ExecuteTime": {
     "end_time": "2021-06-12T22:13:36.099087Z",
     "start_time": "2021-06-12T22:13:35.390425Z"
    }
   },
   "outputs": [],
   "source": [
    "df_06120221.to_csv('corpus_06122021.csv', index=False)"
   ]
  },
  {
   "cell_type": "code",
   "execution_count": null,
   "metadata": {},
   "outputs": [],
   "source": []
  }
 ],
 "metadata": {
  "hide_input": false,
  "kernelspec": {
   "display_name": "learn-env",
   "language": "python",
   "name": "learn-env"
  },
  "language_info": {
   "codemirror_mode": {
    "name": "ipython",
    "version": 3
   },
   "file_extension": ".py",
   "mimetype": "text/x-python",
   "name": "python",
   "nbconvert_exporter": "python",
   "pygments_lexer": "ipython3",
   "version": "3.8.5"
  },
  "toc": {
   "base_numbering": 1,
   "nav_menu": {},
   "number_sections": true,
   "sideBar": true,
   "skip_h1_title": false,
   "title_cell": "Table of Contents",
   "title_sidebar": "Contents",
   "toc_cell": false,
   "toc_position": {
    "height": "calc(100% - 180px)",
    "left": "10px",
    "top": "150px",
    "width": "492.396px"
   },
   "toc_section_display": true,
   "toc_window_display": false
  }
 },
 "nbformat": 4,
 "nbformat_minor": 4
}
