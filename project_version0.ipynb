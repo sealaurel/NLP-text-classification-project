{
 "cells": [
  {
   "cell_type": "code",
   "execution_count": 2,
   "metadata": {
    "ExecuteTime": {
     "end_time": "2021-06-14T01:16:24.839788Z",
     "start_time": "2021-06-14T01:16:24.827785Z"
    }
   },
   "outputs": [],
   "source": [
    "import pandas as pd\n",
    "import numpy as np\n",
    "import nltk\n",
    "import matplotlib.pyplot as plt\n",
    "import string\n",
    "import re\n",
    "\n",
    "from nltk.probability import FreqDist\n",
    "from nltk.corpus import stopwords\n",
    "from nltk.tokenize import regexp_tokenize, word_tokenize, RegexpTokenizer\n",
    "from nltk.collocations import *\n",
    "\n",
    "from nltk import word_tokenize, FreqDist\n",
    "from sklearn.feature_extraction.text import TfidfVectorizer\n",
    "from sklearn.metrics import accuracy_score\n",
    "from sklearn.ensemble import RandomForestClassifier\n",
    "from sklearn.naive_bayes import MultinomialNB\n",
    "\n",
    "np.random.seed(0)"
   ]
  },
  {
   "cell_type": "code",
   "execution_count": 2,
   "metadata": {
    "ExecuteTime": {
     "end_time": "2021-06-13T06:18:32.626200Z",
     "start_time": "2021-06-13T06:18:32.339631Z"
    }
   },
   "outputs": [
    {
     "data": {
      "text/plain": [
       "(121620, 2)"
      ]
     },
     "execution_count": 2,
     "metadata": {},
     "output_type": "execute_result"
    }
   ],
   "source": [
    "corpus = pd.read_csv('corpus_06122021.csv')\n",
    "corpus.shape"
   ]
  },
  {
   "cell_type": "code",
   "execution_count": 3,
   "metadata": {
    "ExecuteTime": {
     "end_time": "2021-06-13T06:18:32.642203Z",
     "start_time": "2021-06-13T06:18:32.627201Z"
    }
   },
   "outputs": [
    {
     "data": {
      "text/html": [
       "<div>\n",
       "<style scoped>\n",
       "    .dataframe tbody tr th:only-of-type {\n",
       "        vertical-align: middle;\n",
       "    }\n",
       "\n",
       "    .dataframe tbody tr th {\n",
       "        vertical-align: top;\n",
       "    }\n",
       "\n",
       "    .dataframe thead th {\n",
       "        text-align: right;\n",
       "    }\n",
       "</style>\n",
       "<table border=\"1\" class=\"dataframe\">\n",
       "  <thead>\n",
       "    <tr style=\"text-align: right;\">\n",
       "      <th></th>\n",
       "      <th>target</th>\n",
       "      <th>body</th>\n",
       "    </tr>\n",
       "  </thead>\n",
       "  <tbody>\n",
       "    <tr>\n",
       "      <th>0</th>\n",
       "      <td>4.0</td>\n",
       "      <td>I worked as a contractor for them for about tw...</td>\n",
       "    </tr>\n",
       "    <tr>\n",
       "      <th>1</th>\n",
       "      <td>1.0</td>\n",
       "      <td>Worst place I've ever worked, hands down.</td>\n",
       "    </tr>\n",
       "    <tr>\n",
       "      <th>2</th>\n",
       "      <td>3.0</td>\n",
       "      <td>The compnay has good benefits and even a small...</td>\n",
       "    </tr>\n",
       "    <tr>\n",
       "      <th>3</th>\n",
       "      <td>1.0</td>\n",
       "      <td>Company has no life and work balance.  Everyda...</td>\n",
       "    </tr>\n",
       "    <tr>\n",
       "      <th>4</th>\n",
       "      <td>5.0</td>\n",
       "      <td>I no long work for Ball, the drive to work was...</td>\n",
       "    </tr>\n",
       "  </tbody>\n",
       "</table>\n",
       "</div>"
      ],
      "text/plain": [
       "   target                                               body\n",
       "0     4.0  I worked as a contractor for them for about tw...\n",
       "1     1.0          Worst place I've ever worked, hands down.\n",
       "2     3.0  The compnay has good benefits and even a small...\n",
       "3     1.0  Company has no life and work balance.  Everyda...\n",
       "4     5.0  I no long work for Ball, the drive to work was..."
      ]
     },
     "execution_count": 3,
     "metadata": {},
     "output_type": "execute_result"
    }
   ],
   "source": [
    "corpus.head()"
   ]
  },
  {
   "cell_type": "markdown",
   "metadata": {},
   "source": [
    "## Manual cleanup"
   ]
  },
  {
   "cell_type": "code",
   "execution_count": 4,
   "metadata": {
    "ExecuteTime": {
     "end_time": "2021-06-13T06:18:32.658207Z",
     "start_time": "2021-06-13T06:18:32.644204Z"
    }
   },
   "outputs": [
    {
     "data": {
      "text/plain": [
       "\"Do yourself a favor: if you work here, do not go into pick at all if you don't like moving around constantly. Also, if you end up working here, actually work? A lot of people come in and don't do their jobs which makes everyone else's job harder. They only write up the bottom 5% of performers and it takes 3 write ups to get fired. Managers change every 6 months. So, if you hate your manager or if you like them or you never see them? Doesn't matter cuz you'll get another soon.\""
      ]
     },
     "execution_count": 4,
     "metadata": {},
     "output_type": "execute_result"
    }
   ],
   "source": [
    "review_test = corpus.iloc[1354].body\n",
    "review_test"
   ]
  },
  {
   "cell_type": "code",
   "execution_count": 5,
   "metadata": {
    "ExecuteTime": {
     "end_time": "2021-06-13T06:18:32.674211Z",
     "start_time": "2021-06-13T06:18:32.659208Z"
    }
   },
   "outputs": [
    {
     "data": {
      "text/plain": [
       "3.0"
      ]
     },
     "execution_count": 5,
     "metadata": {},
     "output_type": "execute_result"
    }
   ],
   "source": [
    "rating_test = corpus.iloc[1354].target\n",
    "rating_test"
   ]
  },
  {
   "cell_type": "code",
   "execution_count": 6,
   "metadata": {
    "ExecuteTime": {
     "end_time": "2021-06-13T06:18:32.690214Z",
     "start_time": "2021-06-13T06:18:32.675211Z"
    }
   },
   "outputs": [
    {
     "data": {
      "text/plain": [
       "5.0    37147\n",
       "4.0    33875\n",
       "3.0    26850\n",
       "1.0    12285\n",
       "2.0    11463\n",
       "Name: target, dtype: int64"
      ]
     },
     "execution_count": 6,
     "metadata": {},
     "output_type": "execute_result"
    }
   ],
   "source": [
    "corpus.target.value_counts()"
   ]
  },
  {
   "cell_type": "code",
   "execution_count": 7,
   "metadata": {
    "ExecuteTime": {
     "end_time": "2021-06-13T06:18:32.706218Z",
     "start_time": "2021-06-13T06:18:32.692215Z"
    }
   },
   "outputs": [
    {
     "name": "stdout",
     "output_type": "stream",
     "text": [
      "['do', 'yourself', 'a', 'favor:', 'if', 'you', 'work', 'here,', 'do', 'not', 'go', 'into', 'pick', 'at', 'all', 'if', 'you', \"don't\", 'like', 'moving', 'around', 'constantly.', 'also,', 'if', 'you', 'end', 'up', 'working', 'here,', 'actually', 'work?', 'a', 'lot', 'of', 'people', 'come', 'in', 'and', \"don't\", 'do', 'their', 'jobs', 'which', 'makes', 'everyone', \"else's\", 'job', 'harder.', 'they', 'only', 'write', 'up', 'the', 'bottom', '5%', 'of', 'performers', 'and', 'it', 'takes', '3', 'write', 'ups', 'to', 'get', 'fired.', 'managers', 'change', 'every', '6', 'months.', 'so,', 'if', 'you', 'hate', 'your', 'manager', 'or', 'if', 'you', 'like', 'them', 'or', 'you', 'never', 'see', 'them?', \"doesn't\", 'matter', 'cuz', \"you'll\", 'get', 'another', 'soon.']\n"
     ]
    }
   ],
   "source": [
    "example_tokens=review_test.split(' ')\n",
    "manual_cleanup_example = [word.lower() for word in example_tokens]\n",
    "print(manual_cleanup_example)"
   ]
  },
  {
   "cell_type": "code",
   "execution_count": 8,
   "metadata": {
    "ExecuteTime": {
     "end_time": "2021-06-13T06:18:32.722176Z",
     "start_time": "2021-06-13T06:18:32.707218Z"
    }
   },
   "outputs": [
    {
     "name": "stdout",
     "output_type": "stream",
     "text": [
      "Our initial token set for our sample review is 94 words long\n"
     ]
    }
   ],
   "source": [
    "print(f\"Our initial token set for our sample review is {len(manual_cleanup_example)} words long\")"
   ]
  },
  {
   "cell_type": "code",
   "execution_count": 9,
   "metadata": {
    "ExecuteTime": {
     "end_time": "2021-06-13T06:18:32.737179Z",
     "start_time": "2021-06-13T06:18:32.723176Z"
    }
   },
   "outputs": [
    {
     "name": "stdout",
     "output_type": "stream",
     "text": [
      "Our initial token set for our sample review has 75 unique words\n"
     ]
    }
   ],
   "source": [
    "print(f\"Our initial token set for our sample review has \\\n",
    "{len(set(example_tokens))} unique words\")"
   ]
  },
  {
   "cell_type": "code",
   "execution_count": 10,
   "metadata": {
    "ExecuteTime": {
     "end_time": "2021-06-13T06:18:32.753182Z",
     "start_time": "2021-06-13T06:18:32.738179Z"
    }
   },
   "outputs": [
    {
     "name": "stdout",
     "output_type": "stream",
     "text": [
      "After removing capitals, our sample review has 73 unique words\n"
     ]
    }
   ],
   "source": [
    "print(f\"After removing capitals, our sample review has \\\n",
    "{len(set(manual_cleanup_example))} unique words\")"
   ]
  },
  {
   "cell_type": "code",
   "execution_count": 11,
   "metadata": {
    "ExecuteTime": {
     "end_time": "2021-06-13T06:18:32.769186Z",
     "start_time": "2021-06-13T06:18:32.754183Z"
    }
   },
   "outputs": [
    {
     "data": {
      "text/plain": [
       "'!\"#$%&\\'()*+,-./:;<=>?@[\\\\]^_`{|}~'"
      ]
     },
     "execution_count": 11,
     "metadata": {},
     "output_type": "execute_result"
    }
   ],
   "source": [
    "string.punctuation"
   ]
  },
  {
   "cell_type": "code",
   "execution_count": 12,
   "metadata": {
    "ExecuteTime": {
     "end_time": "2021-06-13T06:18:32.785189Z",
     "start_time": "2021-06-13T06:18:32.770186Z"
    }
   },
   "outputs": [
    {
     "data": {
      "text/plain": [
       "'!\"#%&\\'()*+,-./:;<=>?@[\\\\]^_`{|}~'"
      ]
     },
     "execution_count": 12,
     "metadata": {},
     "output_type": "execute_result"
    }
   ],
   "source": [
    "punct_custom=string.punctuation.replace('$','')\n",
    "punct_custom"
   ]
  },
  {
   "cell_type": "code",
   "execution_count": 13,
   "metadata": {
    "ExecuteTime": {
     "end_time": "2021-06-13T06:18:32.801193Z",
     "start_time": "2021-06-13T06:18:32.786190Z"
    }
   },
   "outputs": [
    {
     "name": "stdout",
     "output_type": "stream",
     "text": [
      "['do', 'yourself', 'a', 'favor', 'if', 'you', 'work', 'here', 'do', 'not', 'go', 'into', 'pick', 'at', 'all', 'if', 'you', 'dont', 'like', 'moving', 'around', 'constantly', 'also', 'if', 'you', 'end', 'up', 'working', 'here', 'actually', 'work', 'a', 'lot', 'of', 'people', 'come', 'in', 'and', 'dont', 'do', 'their', 'jobs', 'which', 'makes', 'everyone', 'elses', 'job', 'harder', 'they', 'only', 'write', 'up', 'the', 'bottom', '5', 'of', 'performers', 'and', 'it', 'takes', '3', 'write', 'ups', 'to', 'get', 'fired', 'managers', 'change', 'every', '6', 'months', 'so', 'if', 'you', 'hate', 'your', 'manager', 'or', 'if', 'you', 'like', 'them', 'or', 'you', 'never', 'see', 'them', 'doesnt', 'matter', 'cuz', 'youll', 'get', 'another', 'soon']\n"
     ]
    }
   ],
   "source": [
    "manual_cleanup_example = [s.translate(str.maketrans('', '', punct_custom))\\\n",
    "                  for s in manual_cleanup_example]\n",
    "print(manual_cleanup_example)"
   ]
  },
  {
   "cell_type": "code",
   "execution_count": 14,
   "metadata": {
    "ExecuteTime": {
     "end_time": "2021-06-13T06:18:32.817196Z",
     "start_time": "2021-06-13T06:18:32.802195Z"
    }
   },
   "outputs": [
    {
     "name": "stdout",
     "output_type": "stream",
     "text": [
      "After removing punctuation, our sample review has 71 unique words\n"
     ]
    }
   ],
   "source": [
    "print(f\"After removing punctuation, our sample review has \\\n",
    "{len(set(manual_cleanup_example))} unique words\")"
   ]
  },
  {
   "cell_type": "code",
   "execution_count": 15,
   "metadata": {
    "ExecuteTime": {
     "end_time": "2021-06-13T06:18:32.848947Z",
     "start_time": "2021-06-13T06:18:32.818197Z"
    }
   },
   "outputs": [
    {
     "name": "stdout",
     "output_type": "stream",
     "text": [
      "['do', 'yourself', 'a', 'if', 'you', 'here', 'do', 'not', 'into', 'at', 'all', 'if', 'you', 'if', 'you', 'up', 'here', 'a', 'of', 'in', 'and', 'do', 'their', 'which', 'they', 'only', 'up', 'the', 'of', 'and', 'it', 'to', 'so', 'if', 'you', 'your', 'or', 'if', 'you', 'them', 'or', 'you', 'them']\n"
     ]
    }
   ],
   "source": [
    "stops = [token for token in manual_cleanup_example if token in stopwords.words('english')]\n",
    "print(stops)"
   ]
  },
  {
   "cell_type": "code",
   "execution_count": 16,
   "metadata": {
    "ExecuteTime": {
     "end_time": "2021-06-13T06:18:32.864951Z",
     "start_time": "2021-06-13T06:18:32.849947Z"
    }
   },
   "outputs": [
    {
     "name": "stdout",
     "output_type": "stream",
     "text": [
      "There are 43 stopwords in the sample review\n"
     ]
    }
   ],
   "source": [
    "print(f'There are {len(stops)} stopwords in the sample review')"
   ]
  },
  {
   "cell_type": "code",
   "execution_count": 17,
   "metadata": {
    "ExecuteTime": {
     "end_time": "2021-06-13T06:18:32.880955Z",
     "start_time": "2021-06-13T06:18:32.865951Z"
    }
   },
   "outputs": [
    {
     "name": "stdout",
     "output_type": "stream",
     "text": [
      "That is  45.74% of our text\n"
     ]
    }
   ],
   "source": [
    "print(f'That is {len(stops)/len(manual_cleanup_example): 0.2%} of our text')"
   ]
  },
  {
   "cell_type": "code",
   "execution_count": 18,
   "metadata": {
    "ExecuteTime": {
     "end_time": "2021-06-13T06:18:33.118008Z",
     "start_time": "2021-06-13T06:18:32.881955Z"
    }
   },
   "outputs": [
    {
     "data": {
      "image/png": "[encoded data removed]",
      "text/plain": [
       "<Figure size 720x720 with 1 Axes>"
      ]
     },
     "metadata": {
      "needs_background": "light"
     },
     "output_type": "display_data"
    }
   ],
   "source": [
    "fdist = FreqDist(manual_cleanup_example)\n",
    "plt.figure(figsize=(10, 10))\n",
    "fdist.plot(30);"
   ]
  },
  {
   "cell_type": "code",
   "execution_count": 19,
   "metadata": {
    "ExecuteTime": {
     "end_time": "2021-06-13T06:18:33.149814Z",
     "start_time": "2021-06-13T06:18:33.119008Z"
    }
   },
   "outputs": [],
   "source": [
    "manual_cleanup_example = [token for token in manual_cleanup_example if\\\n",
    "                  token not in stopwords.words('english')]"
   ]
  },
  {
   "cell_type": "code",
   "execution_count": 20,
   "metadata": {
    "ExecuteTime": {
     "end_time": "2021-06-13T06:18:33.165818Z",
     "start_time": "2021-06-13T06:18:33.150815Z"
    }
   },
   "outputs": [
    {
     "name": "stdout",
     "output_type": "stream",
     "text": [
      "['favor', 'work', 'go', 'pick', 'dont', 'like', 'moving', 'around', 'constantly', 'also', 'end', 'working', 'actually', 'work', 'lot', 'people', 'come', 'dont', 'jobs', 'makes', 'everyone', 'elses', 'job', 'harder', 'write', 'bottom', '5', 'performers', 'takes', '3', 'write', 'ups', 'get', 'fired', 'managers', 'change', 'every', '6', 'months', 'hate', 'manager', 'like', 'never', 'see', 'doesnt', 'matter', 'cuz', 'youll', 'get', 'another', 'soon']\n"
     ]
    }
   ],
   "source": [
    "print(manual_cleanup_example)"
   ]
  },
  {
   "cell_type": "code",
   "execution_count": 21,
   "metadata": {
    "ExecuteTime": {
     "end_time": "2021-06-13T06:18:33.181822Z",
     "start_time": "2021-06-13T06:18:33.166911Z"
    }
   },
   "outputs": [
    {
     "name": "stdout",
     "output_type": "stream",
     "text": [
      "After removing stopwords, our sample review has 46 unique words\n"
     ]
    }
   ],
   "source": [
    "print(f\"After removing stopwords, our sample review has \\\n",
    "{len(set(manual_cleanup_example))} unique words\")"
   ]
  },
  {
   "cell_type": "code",
   "execution_count": 22,
   "metadata": {
    "ExecuteTime": {
     "end_time": "2021-06-13T06:18:33.402930Z",
     "start_time": "2021-06-13T06:18:33.184823Z"
    }
   },
   "outputs": [
    {
     "data": {
      "image/png": "[encoded data removed]",
      "text/plain": [
       "<Figure size 720x720 with 1 Axes>"
      ]
     },
     "metadata": {
      "needs_background": "light"
     },
     "output_type": "display_data"
    }
   ],
   "source": [
    "fdist = FreqDist(manual_cleanup_example)\n",
    "plt.figure(figsize=(10, 10))\n",
    "fdist.plot(30);"
   ]
  },
  {
   "cell_type": "code",
   "execution_count": 23,
   "metadata": {
    "ExecuteTime": {
     "end_time": "2021-06-13T06:18:33.418087Z",
     "start_time": "2021-06-13T06:18:33.403872Z"
    }
   },
   "outputs": [],
   "source": [
    "manual_cleanup_example = [s.translate(str.maketrans('', '', '0123456789')) \\\n",
    "                  for s in manual_cleanup_example]"
   ]
  },
  {
   "cell_type": "code",
   "execution_count": 24,
   "metadata": {
    "ExecuteTime": {
     "end_time": "2021-06-13T06:18:33.434095Z",
     "start_time": "2021-06-13T06:18:33.419087Z"
    }
   },
   "outputs": [
    {
     "name": "stdout",
     "output_type": "stream",
     "text": [
      "After removing numbers, our sample review has 44 unique words\n"
     ]
    }
   ],
   "source": [
    "print(f\"After removing numbers, our sample review has \\\n",
    "{len(set(manual_cleanup_example))} unique words\")"
   ]
  },
  {
   "cell_type": "code",
   "execution_count": 25,
   "metadata": {
    "ExecuteTime": {
     "end_time": "2021-06-13T06:18:33.449399Z",
     "start_time": "2021-06-13T06:18:33.435095Z"
    }
   },
   "outputs": [],
   "source": [
    "manual_cleanup_example = [s for s in manual_cleanup_example if s != '' ]"
   ]
  },
  {
   "cell_type": "code",
   "execution_count": 26,
   "metadata": {
    "ExecuteTime": {
     "end_time": "2021-06-13T06:18:33.465403Z",
     "start_time": "2021-06-13T06:18:33.450400Z"
    }
   },
   "outputs": [
    {
     "name": "stdout",
     "output_type": "stream",
     "text": [
      "After removing empty strings, our sample review has 43 unique words\n"
     ]
    }
   ],
   "source": [
    "print(f\"After removing empty strings, our sample review has \\\n",
    "{len(set(manual_cleanup_example))} unique words\")"
   ]
  },
  {
   "cell_type": "code",
   "execution_count": 27,
   "metadata": {
    "ExecuteTime": {
     "end_time": "2021-06-13T06:19:09.801230Z",
     "start_time": "2021-06-13T06:19:09.794219Z"
    }
   },
   "outputs": [
    {
     "name": "stdout",
     "output_type": "stream",
     "text": [
      "['favor', 'work', 'go', 'pick', 'dont', 'like', 'moving', 'around', 'constantly', 'also', 'end', 'working', 'actually', 'work', 'lot', 'people', 'come', 'dont', 'jobs', 'makes', 'everyone', 'elses', 'job', 'harder', 'write', 'bottom', 'performers', 'takes', 'write', 'ups', 'get', 'fired', 'managers', 'change', 'every', 'months', 'hate', 'manager', 'like', 'never', 'see', 'doesnt', 'matter', 'cuz', 'youll', 'get', 'another', 'soon']\n"
     ]
    }
   ],
   "source": [
    "print(manual_cleanup_example)"
   ]
  },
  {
   "cell_type": "code",
   "execution_count": 28,
   "metadata": {
    "ExecuteTime": {
     "end_time": "2021-06-13T06:19:37.090618Z",
     "start_time": "2021-06-13T06:19:36.826002Z"
    }
   },
   "outputs": [
    {
     "data": {
      "image/png": "[encoded data removed]",
      "text/plain": [
       "<Figure size 720x720 with 1 Axes>"
      ]
     },
     "metadata": {
      "needs_background": "light"
     },
     "output_type": "display_data"
    }
   ],
   "source": [
    "fdist = FreqDist(manual_cleanup_example)\n",
    "plt.figure(figsize=(10, 10))\n",
    "fdist.plot(30);"
   ]
  },
  {
   "cell_type": "markdown",
   "metadata": {},
   "source": [
    "## Using Tokenizers"
   ]
  },
  {
   "cell_type": "code",
   "execution_count": 29,
   "metadata": {
    "ExecuteTime": {
     "end_time": "2021-06-13T06:27:59.406866Z",
     "start_time": "2021-06-13T06:27:59.402864Z"
    }
   },
   "outputs": [],
   "source": [
    "pattern = \"([a-zA-Z]+(?:'[a-z]+)?)\"\n",
    "tokenizer = RegexpTokenizer(pattern)\n",
    "first_rev = tokenizer.tokenize(review_test)"
   ]
  },
  {
   "cell_type": "code",
   "execution_count": 30,
   "metadata": {
    "ExecuteTime": {
     "end_time": "2021-06-13T06:29:30.973528Z",
     "start_time": "2021-06-13T06:29:30.953003Z"
    }
   },
   "outputs": [],
   "source": [
    "first_rev = [token.lower() for token in first_rev]\n",
    "first_rev = [token for token in first_rev if token not in stopwords.words('english')]"
   ]
  },
  {
   "cell_type": "code",
   "execution_count": 32,
   "metadata": {
    "ExecuteTime": {
     "end_time": "2021-06-13T06:30:52.689093Z",
     "start_time": "2021-06-13T06:30:52.680598Z"
    }
   },
   "outputs": [
    {
     "name": "stdout",
     "output_type": "stream",
     "text": [
      "['favor', 'work', 'go', 'pick', 'like', 'moving', 'around', 'constantly', 'also', 'end', 'working', 'actually', 'work', 'lot', 'people', 'come', 'jobs', 'makes', 'everyone', \"else's\", 'job', 'harder', 'write', 'bottom', 'performers', 'takes', 'write', 'ups', 'get', 'fired', 'managers', 'change', 'every', 'months', 'hate', 'manager', 'like', 'never', 'see', 'matter', 'cuz', 'get', 'another', 'soon']\n"
     ]
    }
   ],
   "source": [
    "print(first_rev)"
   ]
  },
  {
   "cell_type": "code",
   "execution_count": 31,
   "metadata": {
    "ExecuteTime": {
     "end_time": "2021-06-13T06:30:17.709723Z",
     "start_time": "2021-06-13T06:30:17.705721Z"
    }
   },
   "outputs": [
    {
     "name": "stdout",
     "output_type": "stream",
     "text": [
      "After using RegexpTokenizer, our sample review has 40 unique words\n"
     ]
    }
   ],
   "source": [
    "print(f\"After using RegexpTokenizer, our sample review has \\\n",
    "{len(set(first_rev))} unique words\")"
   ]
  }
 ],
 "metadata": {
  "hide_input": false,
  "kernelspec": {
   "display_name": "learn-env",
   "language": "python",
   "name": "learn-env"
  },
  "language_info": {
   "codemirror_mode": {
    "name": "ipython",
    "version": 3
   },
   "file_extension": ".py",
   "mimetype": "text/x-python",
   "name": "python",
   "nbconvert_exporter": "python",
   "pygments_lexer": "ipython3",
   "version": "3.8.5"
  },
  "toc": {
   "base_numbering": 1,
   "nav_menu": {},
   "number_sections": true,
   "sideBar": true,
   "skip_h1_title": false,
   "title_cell": "Table of Contents",
   "title_sidebar": "Contents",
   "toc_cell": false,
   "toc_position": {
    "height": "calc(100% - 180px)",
    "left": "10px",
    "top": "150px",
    "width": "241.594px"
   },
   "toc_section_display": true,
   "toc_window_display": true
  }
 },
 "nbformat": 4,
 "nbformat_minor": 4
}
